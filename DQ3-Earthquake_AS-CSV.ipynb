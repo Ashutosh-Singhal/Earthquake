{
 "cells": [
  {
   "cell_type": "markdown",
   "metadata": {},
   "source": [
    "## Extracting the earthquake data using beautiful soup and exporrting it to csv\n",
    "### Data cleaning tasks include:\n",
    "1. Replace empty strings with NaN\n",
    "2. Remove the footnotes from the 'Other Source Deaths' column\n",
    "3. Convert Magnitude to a numeric\n",
    "4. Create a new column ('deaths') that evaluates the four total-death columns ('PDE Total Deaths', 'Utsu Total Deaths', 'EM-DAT Total Deaths', and 'Other Source Deaths') and populates the new column with the highest value.\n",
    "5. Explore the data in terms of when and where earthquakes occurred and how severe they were (magnitude, deaths, secondary effects)."
   ]
  },
  {
   "cell_type": "code",
   "execution_count": 15,
   "metadata": {},
   "outputs": [],
   "source": [
    "import pandas as pd\n",
    "import requests\n",
    "from bs4 import BeautifulSoup as BS\n",
    "from datetime import datetime\n",
    "import numpy as np\n",
    "import re\n",
    "import matplotlib\n",
    "import matplotlib.pyplot as plt\n",
    "import plotly.plotly as py\n",
    "from shapely.geometry import Point\n",
    "import geopandas as gpd\n",
    "import matplotlib.pyplot as plt\n",
    "import folium\n",
    "from folium.plugins import MarkerCluster\n",
    "from matplotlib import style\n",
    "import seaborn as sns\n",
    "# Activate Seaborn\n",
    "sns.set()\n",
    "%matplotlib inline\n",
    "# Treemap\n",
    "import squarify "
   ]
  },
  {
   "cell_type": "markdown",
   "metadata": {},
   "source": [
    "#### The [Requests](http://docs.python-requests.org/en/master/user/quickstart/) package makes working with HTTP easier"
   ]
  },
  {
   "cell_type": "code",
   "execution_count": 16,
   "metadata": {},
   "outputs": [],
   "source": [
    "# creating a Request object for the wikipedia page for deadly earthquakes since 1900\n",
    "response = requests.get('https://en.wikipedia.org/wiki/List_of_deadly_earthquakes_since_1900')\n",
    "\n",
    "# reading the resulting HTML into a variable called result_text\n",
    "result_text = response.text"
   ]
  },
  {
   "cell_type": "code",
   "execution_count": 17,
   "metadata": {},
   "outputs": [
    {
     "name": "stdout",
     "output_type": "stream",
     "text": [
      "<class 'requests.models.Response'>\n",
      "<class 'str'>\n"
     ]
    }
   ],
   "source": [
    "print(type(response))\n",
    "print(type(result_text))"
   ]
  },
  {
   "cell_type": "code",
   "execution_count": 18,
   "metadata": {},
   "outputs": [],
   "source": [
    "#result_text"
   ]
  },
  {
   "cell_type": "markdown",
   "metadata": {},
   "source": [
    "#### Using Beautiful Soup package to pull data from HTML files"
   ]
  },
  {
   "cell_type": "code",
   "execution_count": 19,
   "metadata": {},
   "outputs": [],
   "source": [
    "# creating the soup by constructing a BS object from the html page and the appropriate parser\n",
    "soup = BS(result_text, 'html.parser')"
   ]
  },
  {
   "cell_type": "code",
   "execution_count": 20,
   "metadata": {},
   "outputs": [],
   "source": [
    "#getting table headers using HTML tag 'th'\n",
    "column_headers = [th.getText() for th in \n",
    "                  soup.findAll('th')]"
   ]
  },
  {
   "cell_type": "code",
   "execution_count": 21,
   "metadata": {},
   "outputs": [],
   "source": [
    "#getting table rows using HTML tag 'tr'\n",
    "table_rows = soup.findAll('tr')[6:]\n"
   ]
  },
  {
   "cell_type": "code",
   "execution_count": 22,
   "metadata": {},
   "outputs": [],
   "source": [
    "# parse out data in rows# parse \n",
    "\n",
    "earthquake = [[td.getText() for td in table_rows[i].findAll('td')]\n",
    "            for i in range(len(table_rows))]"
   ]
  },
  {
   "cell_type": "code",
   "execution_count": 23,
   "metadata": {},
   "outputs": [],
   "source": [
    "#table_rows"
   ]
  },
  {
   "cell_type": "code",
   "execution_count": 24,
   "metadata": {},
   "outputs": [
    {
     "data": {
      "text/html": [
       "<div>\n",
       "<style scoped>\n",
       "    .dataframe tbody tr th:only-of-type {\n",
       "        vertical-align: middle;\n",
       "    }\n",
       "\n",
       "    .dataframe tbody tr th {\n",
       "        vertical-align: top;\n",
       "    }\n",
       "\n",
       "    .dataframe thead th {\n",
       "        text-align: right;\n",
       "    }\n",
       "</style>\n",
       "<table border=\"1\" class=\"dataframe\">\n",
       "  <thead>\n",
       "    <tr style=\"text-align: right;\">\n",
       "      <th></th>\n",
       "      <th>Origin (UTC)</th>\n",
       "      <th>Present-day country and link to Wikipedia article</th>\n",
       "      <th>Lat</th>\n",
       "      <th>Long</th>\n",
       "      <th>Depth (km)</th>\n",
       "      <th>Magnitude</th>\n",
       "      <th>Secondary Effects</th>\n",
       "      <th>PDE Shaking Deaths</th>\n",
       "      <th>PDE Total Deaths</th>\n",
       "      <th>Utsu Total Deaths</th>\n",
       "      <th>EM-DAT Total Deaths</th>\n",
       "      <th>Other Source Deaths</th>\n",
       "    </tr>\n",
       "  </thead>\n",
       "  <tbody>\n",
       "    <tr>\n",
       "      <th>0</th>\n",
       "      <td>1900-07-12 06:25</td>\n",
       "      <td>Turkey</td>\n",
       "      <td>40.300</td>\n",
       "      <td>43.100</td>\n",
       "      <td></td>\n",
       "      <td>5.9 Muk</td>\n",
       "      <td></td>\n",
       "      <td></td>\n",
       "      <td></td>\n",
       "      <td>140</td>\n",
       "      <td></td>\n",
       "      <td>\\n</td>\n",
       "    </tr>\n",
       "    <tr>\n",
       "      <th>1</th>\n",
       "      <td>1900-10-29 09:11</td>\n",
       "      <td>Venezuela</td>\n",
       "      <td>11.000</td>\n",
       "      <td>-66.000</td>\n",
       "      <td>0</td>\n",
       "      <td>7.7 Mw</td>\n",
       "      <td></td>\n",
       "      <td></td>\n",
       "      <td></td>\n",
       "      <td></td>\n",
       "      <td></td>\n",
       "      <td>\\n</td>\n",
       "    </tr>\n",
       "    <tr>\n",
       "      <th>2</th>\n",
       "      <td>1901-02-15 00:00</td>\n",
       "      <td>China</td>\n",
       "      <td>26.000</td>\n",
       "      <td>100.100</td>\n",
       "      <td>0</td>\n",
       "      <td>6.5 Ms</td>\n",
       "      <td></td>\n",
       "      <td></td>\n",
       "      <td></td>\n",
       "      <td></td>\n",
       "      <td></td>\n",
       "      <td>\\n</td>\n",
       "    </tr>\n",
       "    <tr>\n",
       "      <th>3</th>\n",
       "      <td>1901-03-31 07:11</td>\n",
       "      <td>Bulgaria</td>\n",
       "      <td>43.400</td>\n",
       "      <td>28.700</td>\n",
       "      <td></td>\n",
       "      <td>6.4 Muk</td>\n",
       "      <td></td>\n",
       "      <td></td>\n",
       "      <td></td>\n",
       "      <td>4</td>\n",
       "      <td></td>\n",
       "      <td>\\n</td>\n",
       "    </tr>\n",
       "    <tr>\n",
       "      <th>4</th>\n",
       "      <td>1901-08-09 09:23</td>\n",
       "      <td>Japan</td>\n",
       "      <td>40.500</td>\n",
       "      <td>142.500</td>\n",
       "      <td>35</td>\n",
       "      <td>7.2 Mw</td>\n",
       "      <td>T</td>\n",
       "      <td></td>\n",
       "      <td></td>\n",
       "      <td></td>\n",
       "      <td></td>\n",
       "      <td>\\n</td>\n",
       "    </tr>\n",
       "  </tbody>\n",
       "</table>\n",
       "</div>"
      ],
      "text/plain": [
       "       Origin (UTC) Present-day country and link to Wikipedia article     Lat  \\\n",
       "0  1900-07-12 06:25                                            Turkey  40.300   \n",
       "1  1900-10-29 09:11                                         Venezuela  11.000   \n",
       "2  1901-02-15 00:00                                             China  26.000   \n",
       "3  1901-03-31 07:11                                          Bulgaria  43.400   \n",
       "4  1901-08-09 09:23                                             Japan  40.500   \n",
       "\n",
       "      Long Depth (km) Magnitude Secondary Effects PDE Shaking Deaths  \\\n",
       "0   43.100              5.9 Muk                                        \n",
       "1  -66.000          0    7.7 Mw                                        \n",
       "2  100.100          0    6.5 Ms                                        \n",
       "3   28.700              6.4 Muk                                        \n",
       "4  142.500         35    7.2 Mw                 T                      \n",
       "\n",
       "  PDE Total Deaths Utsu Total Deaths EM-DAT Total Deaths Other Source Deaths\\n  \n",
       "0                                140                                        \\n  \n",
       "1                                                                           \\n  \n",
       "2                                                                           \\n  \n",
       "3                                  4                                        \\n  \n",
       "4                                                                           \\n  "
      ]
     },
     "execution_count": 24,
     "metadata": {},
     "output_type": "execute_result"
    }
   ],
   "source": [
    "df_earthquake = pd.DataFrame(earthquake, columns=column_headers)\n",
    "df_earthquake.head()"
   ]
  },
  {
   "cell_type": "code",
   "execution_count": 25,
   "metadata": {},
   "outputs": [
    {
     "data": {
      "text/plain": [
       "['Origin (UTC)',\n",
       " 'Present-day country and link to Wikipedia article',\n",
       " 'Lat',\n",
       " 'Long',\n",
       " 'Depth (km)',\n",
       " 'Magnitude',\n",
       " 'Secondary Effects',\n",
       " 'PDE Shaking Deaths',\n",
       " 'PDE Total Deaths',\n",
       " 'Utsu Total Deaths',\n",
       " 'EM-DAT Total Deaths',\n",
       " 'Other Source Deaths\\n']"
      ]
     },
     "execution_count": 25,
     "metadata": {},
     "output_type": "execute_result"
    }
   ],
   "source": [
    "column_headers"
   ]
  },
  {
   "cell_type": "code",
   "execution_count": 26,
   "metadata": {},
   "outputs": [
    {
     "data": {
      "text/plain": [
       "Index(['Origin (UTC)', 'Present-day country and link to Wikipedia article',\n",
       "       'Lat', 'Long', 'Depth (km)', 'Magnitude', 'Secondary Effects',\n",
       "       'PDE Shaking Deaths', 'PDE Total Deaths', 'Utsu Total Deaths',\n",
       "       'EM-DAT Total Deaths', 'Other Source Deaths\\n'],\n",
       "      dtype='object')"
      ]
     },
     "execution_count": 26,
     "metadata": {},
     "output_type": "execute_result"
    }
   ],
   "source": [
    "df_earthquake.columns"
   ]
  },
  {
   "cell_type": "code",
   "execution_count": 27,
   "metadata": {},
   "outputs": [],
   "source": [
    "df_earthquake.columns = ['origin','country','lat',\n",
    "              'lng','depth','magnitude','secondary_effects',\n",
    "              'pde_shaking_deaths','pde_total_deaths','utsu_total_deaths',\n",
    "              'emdat_total_deaths', 'other_deaths'];"
   ]
  },
  {
   "cell_type": "markdown",
   "metadata": {},
   "source": [
    "## exporting data as csv to be used for analysis."
   ]
  },
  {
   "cell_type": "code",
   "execution_count": 28,
   "metadata": {},
   "outputs": [],
   "source": [
    "df_earthquake.to_csv('earthquake_data.csv')"
   ]
  },
  {
   "cell_type": "markdown",
   "metadata": {},
   "source": [
    "## please refer to the other code file for analysis: \"DQ3-Earthquake_AS\""
   ]
  },
  {
   "cell_type": "code",
   "execution_count": null,
   "metadata": {},
   "outputs": [],
   "source": []
  },
  {
   "cell_type": "code",
   "execution_count": null,
   "metadata": {},
   "outputs": [],
   "source": []
  }
 ],
 "metadata": {
  "kernelspec": {
   "display_name": "Python 3",
   "language": "python",
   "name": "python3"
  },
  "language_info": {
   "codemirror_mode": {
    "name": "ipython",
    "version": 3
   },
   "file_extension": ".py",
   "mimetype": "text/x-python",
   "name": "python",
   "nbconvert_exporter": "python",
   "pygments_lexer": "ipython3",
   "version": "3.6.6"
  }
 },
 "nbformat": 4,
 "nbformat_minor": 2
}
