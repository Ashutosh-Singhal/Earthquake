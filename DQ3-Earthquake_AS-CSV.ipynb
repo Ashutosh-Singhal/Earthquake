{
 "cells": [
  {
   "cell_type": "markdown",
   "metadata": {},
   "source": [
    "## Data-question-3\n",
    "### Earthquakes \n",
    "- Nate Silver discusses the difficulty of predicting earthquakes in **The Signal and the Noise**, but are there factors that make an earthquake more likely? \n",
    "- Are there factors that make an earthquake more deadly? \n",
    "- Where would you live if you wanted to eliminate the risk of experiencing an earthquake? \n",
    "- Where would you avoid living?"
   ]
  },
  {
   "cell_type": "markdown",
   "metadata": {},
   "source": [
    "## Team Name- High Voltage\n",
    "### Team Members:\n",
    "- Rachael Abram\n",
    "- Bernes\n",
    "- Ashutosh Singhal\n"
   ]
  },
  {
   "cell_type": "markdown",
   "metadata": {},
   "source": [
    "#### Data cleaning tasks include:\n",
    "1. Replace empty strings with NaN\n",
    "2. Remove the footnotes from the 'Other Source Deaths' column\n",
    "3. Convert Magnitude to a numeric\n",
    "4. Create a new column ('deaths') that evaluates the four total-death columns ('PDE Total Deaths', 'Utsu Total Deaths', 'EM-DAT Total Deaths', and 'Other Source Deaths') and populates the new column with the highest value.\n",
    "5. Explore the data in terms of when and where earthquakes occurred and how severe they were (magnitude, deaths, secondary effects)."
   ]
  },
  {
   "cell_type": "code",
   "execution_count": 18,
   "metadata": {},
   "outputs": [],
   "source": [
    "import pandas as pd\n",
    "import requests\n",
    "from bs4 import BeautifulSoup as BS\n",
    "from datetime import datetime\n",
    "import numpy as np\n",
    "import re\n",
    "import matplotlib\n",
    "import matplotlib.pyplot as plt\n",
    "import plotly.plotly as py\n",
    "from shapely.geometry import Point\n",
    "import geopandas as gpd\n",
    "import matplotlib.pyplot as plt\n",
    "import folium\n",
    "from folium.plugins import MarkerCluster\n",
    "from matplotlib import style\n",
    "import seaborn as sns\n",
    "# Activate Seaborn\n",
    "sns.set()\n",
    "%matplotlib inline\n",
    "# Treemap\n",
    "import squarify "
   ]
  },
  {
   "cell_type": "markdown",
   "metadata": {},
   "source": [
    "#### The [Requests](http://docs.python-requests.org/en/master/user/quickstart/) package makes working with HTTP easier"
   ]
  },
  {
   "cell_type": "code",
   "execution_count": 19,
   "metadata": {},
   "outputs": [],
   "source": [
    "# creating a Request object for the wikipedia page for deadly earthquakes since 1900\n",
    "response = requests.get('https://en.wikipedia.org/wiki/List_of_deadly_earthquakes_since_1900')\n",
    "\n",
    "# reading the resulting HTML into a variable called result_text\n",
    "result_text = response.text"
   ]
  },
  {
   "cell_type": "code",
   "execution_count": 20,
   "metadata": {},
   "outputs": [
    {
     "name": "stdout",
     "output_type": "stream",
     "text": [
      "<class 'requests.models.Response'>\n",
      "<class 'str'>\n"
     ]
    }
   ],
   "source": [
    "print(type(response))\n",
    "print(type(result_text))"
   ]
  },
  {
   "cell_type": "code",
   "execution_count": 21,
   "metadata": {},
   "outputs": [],
   "source": [
    "#result_text"
   ]
  },
  {
   "cell_type": "markdown",
   "metadata": {},
   "source": [
    "#### Using Beautiful Soup package to pull data from HTML files"
   ]
  },
  {
   "cell_type": "code",
   "execution_count": 22,
   "metadata": {},
   "outputs": [],
   "source": [
    "# creating the soup by constructing a BS object from the html page and the appropriate parser\n",
    "soup = BS(result_text, 'html.parser')"
   ]
  },
  {
   "cell_type": "code",
   "execution_count": 23,
   "metadata": {},
   "outputs": [],
   "source": [
    "#getting table headers using HTML tag 'th'\n",
    "column_headers = [th.getText() for th in \n",
    "                  soup.findAll('th')]"
   ]
  },
  {
   "cell_type": "code",
   "execution_count": 24,
   "metadata": {},
   "outputs": [],
   "source": [
    "#getting table rows using HTML tag 'tr'\n",
    "table_rows = soup.findAll('tr')[6:]\n"
   ]
  },
  {
   "cell_type": "code",
   "execution_count": 25,
   "metadata": {},
   "outputs": [],
   "source": [
    "# parse out data in rows# parse \n",
    "\n",
    "earthquake = [[td.getText() for td in table_rows[i].findAll('td')]\n",
    "            for i in range(len(table_rows))]"
   ]
  },
  {
   "cell_type": "code",
   "execution_count": 26,
   "metadata": {},
   "outputs": [],
   "source": [
    "#table_rows"
   ]
  },
  {
   "cell_type": "code",
   "execution_count": 27,
   "metadata": {},
   "outputs": [
    {
     "data": {
      "text/html": [
       "<div>\n",
       "<style scoped>\n",
       "    .dataframe tbody tr th:only-of-type {\n",
       "        vertical-align: middle;\n",
       "    }\n",
       "\n",
       "    .dataframe tbody tr th {\n",
       "        vertical-align: top;\n",
       "    }\n",
       "\n",
       "    .dataframe thead th {\n",
       "        text-align: right;\n",
       "    }\n",
       "</style>\n",
       "<table border=\"1\" class=\"dataframe\">\n",
       "  <thead>\n",
       "    <tr style=\"text-align: right;\">\n",
       "      <th></th>\n",
       "      <th>Origin (UTC)</th>\n",
       "      <th>Present-day country and link to Wikipedia article</th>\n",
       "      <th>Lat</th>\n",
       "      <th>Long</th>\n",
       "      <th>Depth (km)</th>\n",
       "      <th>Magnitude</th>\n",
       "      <th>Secondary Effects</th>\n",
       "      <th>PDE Shaking Deaths</th>\n",
       "      <th>PDE Total Deaths</th>\n",
       "      <th>Utsu Total Deaths</th>\n",
       "      <th>EM-DAT Total Deaths</th>\n",
       "      <th>Other Source Deaths</th>\n",
       "    </tr>\n",
       "  </thead>\n",
       "  <tbody>\n",
       "    <tr>\n",
       "      <th>0</th>\n",
       "      <td>1900-05-11 17:23</td>\n",
       "      <td>Japan</td>\n",
       "      <td>38.700</td>\n",
       "      <td>141.100</td>\n",
       "      <td>5</td>\n",
       "      <td>7.0 MJMA</td>\n",
       "      <td></td>\n",
       "      <td></td>\n",
       "      <td></td>\n",
       "      <td></td>\n",
       "      <td></td>\n",
       "      <td>\\n</td>\n",
       "    </tr>\n",
       "    <tr>\n",
       "      <th>1</th>\n",
       "      <td>1900-07-12 06:25</td>\n",
       "      <td>Turkey</td>\n",
       "      <td>40.300</td>\n",
       "      <td>43.100</td>\n",
       "      <td></td>\n",
       "      <td>5.9 Muk</td>\n",
       "      <td></td>\n",
       "      <td></td>\n",
       "      <td></td>\n",
       "      <td>140</td>\n",
       "      <td></td>\n",
       "      <td>\\n</td>\n",
       "    </tr>\n",
       "    <tr>\n",
       "      <th>2</th>\n",
       "      <td>1900-10-29 09:11</td>\n",
       "      <td>Venezuela</td>\n",
       "      <td>11.000</td>\n",
       "      <td>-66.000</td>\n",
       "      <td>0</td>\n",
       "      <td>7.7 Mw</td>\n",
       "      <td></td>\n",
       "      <td></td>\n",
       "      <td></td>\n",
       "      <td></td>\n",
       "      <td></td>\n",
       "      <td>\\n</td>\n",
       "    </tr>\n",
       "    <tr>\n",
       "      <th>3</th>\n",
       "      <td>1901-02-15 00:00</td>\n",
       "      <td>China</td>\n",
       "      <td>26.000</td>\n",
       "      <td>100.100</td>\n",
       "      <td>0</td>\n",
       "      <td>6.5 Ms</td>\n",
       "      <td></td>\n",
       "      <td></td>\n",
       "      <td></td>\n",
       "      <td></td>\n",
       "      <td></td>\n",
       "      <td>\\n</td>\n",
       "    </tr>\n",
       "    <tr>\n",
       "      <th>4</th>\n",
       "      <td>1901-03-31 07:11</td>\n",
       "      <td>Bulgaria</td>\n",
       "      <td>43.400</td>\n",
       "      <td>28.700</td>\n",
       "      <td></td>\n",
       "      <td>6.4 Muk</td>\n",
       "      <td></td>\n",
       "      <td></td>\n",
       "      <td></td>\n",
       "      <td>4</td>\n",
       "      <td></td>\n",
       "      <td>\\n</td>\n",
       "    </tr>\n",
       "  </tbody>\n",
       "</table>\n",
       "</div>"
      ],
      "text/plain": [
       "       Origin (UTC) Present-day country and link to Wikipedia article     Lat  \\\n",
       "0  1900-05-11 17:23                                             Japan  38.700   \n",
       "1  1900-07-12 06:25                                            Turkey  40.300   \n",
       "2  1900-10-29 09:11                                         Venezuela  11.000   \n",
       "3  1901-02-15 00:00                                             China  26.000   \n",
       "4  1901-03-31 07:11                                          Bulgaria  43.400   \n",
       "\n",
       "      Long Depth (km) Magnitude Secondary Effects PDE Shaking Deaths  \\\n",
       "0  141.100          5  7.0 MJMA                                        \n",
       "1   43.100              5.9 Muk                                        \n",
       "2  -66.000          0    7.7 Mw                                        \n",
       "3  100.100          0    6.5 Ms                                        \n",
       "4   28.700              6.4 Muk                                        \n",
       "\n",
       "  PDE Total Deaths Utsu Total Deaths EM-DAT Total Deaths Other Source Deaths\\n  \n",
       "0                                                                           \\n  \n",
       "1                                140                                        \\n  \n",
       "2                                                                           \\n  \n",
       "3                                                                           \\n  \n",
       "4                                  4                                        \\n  "
      ]
     },
     "execution_count": 27,
     "metadata": {},
     "output_type": "execute_result"
    }
   ],
   "source": [
    "df_earthquake = pd.DataFrame(earthquake, columns=column_headers)\n",
    "df_earthquake.head()"
   ]
  },
  {
   "cell_type": "code",
   "execution_count": null,
   "metadata": {},
   "outputs": [],
   "source": []
  },
  {
   "cell_type": "code",
   "execution_count": 28,
   "metadata": {},
   "outputs": [
    {
     "data": {
      "text/plain": [
       "['Origin (UTC)',\n",
       " 'Present-day country and link to Wikipedia article',\n",
       " 'Lat',\n",
       " 'Long',\n",
       " 'Depth (km)',\n",
       " 'Magnitude',\n",
       " 'Secondary Effects',\n",
       " 'PDE Shaking Deaths',\n",
       " 'PDE Total Deaths',\n",
       " 'Utsu Total Deaths',\n",
       " 'EM-DAT Total Deaths',\n",
       " 'Other Source Deaths\\n']"
      ]
     },
     "execution_count": 28,
     "metadata": {},
     "output_type": "execute_result"
    }
   ],
   "source": [
    "column_headers"
   ]
  },
  {
   "cell_type": "code",
   "execution_count": 29,
   "metadata": {},
   "outputs": [
    {
     "data": {
      "text/plain": [
       "Index(['Origin (UTC)', 'Present-day country and link to Wikipedia article',\n",
       "       'Lat', 'Long', 'Depth (km)', 'Magnitude', 'Secondary Effects',\n",
       "       'PDE Shaking Deaths', 'PDE Total Deaths', 'Utsu Total Deaths',\n",
       "       'EM-DAT Total Deaths', 'Other Source Deaths\\n'],\n",
       "      dtype='object')"
      ]
     },
     "execution_count": 29,
     "metadata": {},
     "output_type": "execute_result"
    }
   ],
   "source": [
    "df_earthquake.columns"
   ]
  },
  {
   "cell_type": "code",
   "execution_count": 30,
   "metadata": {},
   "outputs": [],
   "source": [
    "df_earthquake.columns = ['origin','country','lat',\n",
    "              'lng','depth','magnitude','secondary_effects',\n",
    "              'pde_shaking_deaths','pde_total_deaths','utsu_total_deaths',\n",
    "              'emdat_total_deaths', 'other_deaths'];"
   ]
  },
  {
   "cell_type": "code",
   "execution_count": 31,
   "metadata": {},
   "outputs": [],
   "source": [
    "df_earthquake.to_csv('earthquake_data.csv')"
   ]
  },
  {
   "cell_type": "code",
   "execution_count": null,
   "metadata": {},
   "outputs": [],
   "source": []
  },
  {
   "cell_type": "code",
   "execution_count": null,
   "metadata": {},
   "outputs": [],
   "source": []
  },
  {
   "cell_type": "code",
   "execution_count": null,
   "metadata": {},
   "outputs": [],
   "source": []
  },
  {
   "cell_type": "code",
   "execution_count": null,
   "metadata": {},
   "outputs": [],
   "source": []
  },
  {
   "cell_type": "code",
   "execution_count": null,
   "metadata": {},
   "outputs": [],
   "source": []
  },
  {
   "cell_type": "code",
   "execution_count": null,
   "metadata": {},
   "outputs": [],
   "source": []
  },
  {
   "cell_type": "code",
   "execution_count": null,
   "metadata": {},
   "outputs": [],
   "source": []
  },
  {
   "cell_type": "code",
   "execution_count": 32,
   "metadata": {},
   "outputs": [
    {
     "data": {
      "text/plain": [
       "origin                object\n",
       "country               object\n",
       "lat                   object\n",
       "lng                   object\n",
       "depth                 object\n",
       "magnitude             object\n",
       "secondary_effects     object\n",
       "pde_shaking_deaths    object\n",
       "pde_total_deaths      object\n",
       "utsu_total_deaths     object\n",
       "emdat_total_deaths    object\n",
       "other_deaths          object\n",
       "dtype: object"
      ]
     },
     "execution_count": 32,
     "metadata": {},
     "output_type": "execute_result"
    }
   ],
   "source": [
    "df_earthquake.dtypes"
   ]
  },
  {
   "cell_type": "code",
   "execution_count": 33,
   "metadata": {},
   "outputs": [],
   "source": [
    "df_earthquake.other_deaths = df_earthquake.other_deaths.str[:-1]"
   ]
  },
  {
   "cell_type": "code",
   "execution_count": 34,
   "metadata": {},
   "outputs": [],
   "source": [
    "#replacing NoneType/blank cells with NaN\n",
    "df_earthquake = df_earthquake.replace('', np.NaN)"
   ]
  },
  {
   "cell_type": "code",
   "execution_count": 35,
   "metadata": {},
   "outputs": [],
   "source": [
    "#df_earthquake = df_earthquake.drop([413])"
   ]
  },
  {
   "cell_type": "code",
   "execution_count": 36,
   "metadata": {},
   "outputs": [],
   "source": [
    "# converting origin column to date time format\n",
    "df_earthquake['origin'] = pd.to_datetime(df_earthquake.origin)"
   ]
  },
  {
   "cell_type": "code",
   "execution_count": 37,
   "metadata": {},
   "outputs": [],
   "source": [
    "#resolving any weird data errors that have a comma, footnote, or aren't formatted correctly to convert to number\n",
    "\n",
    "df_earthquake.at[43, 'other_deaths'] = 8000\n",
    "df_earthquake.at[66,'other_deaths'] = 164\n",
    "df_earthquake.at[99,'other_deaths'] = 1500\n",
    "df_earthquake.at[1078,'other_deaths'] = 45000\n",
    "df_earthquake.at[1082,'other_deaths'] = 2489\n",
    "df_earthquake.at[1206,'other_deaths'] = 26000\n",
    "df_earthquake.at[1238,'other_deaths'] = 283000\n",
    "df_earthquake.at[1339,'other_deaths'] = 601\n",
    "df_earthquake.at[1338,'other_deaths'] = 111\n",
    "df_earthquake.at[1336,'other_deaths'] = 150\n",
    "df_earthquake.at[1335,'other_deaths'] = 15894\n",
    "df_earthquake.at[1329,'other_deaths'] = 521\n",
    "df_earthquake.at[1328,'other_deaths'] = 221517\n",
    "df_earthquake.at[1318,'other_deaths'] = 60\n",
    "df_earthquake.at[439,'emdat_total_deaths'] = '10'\n",
    "df_earthquake.at[413,'emdat_total_deaths'] = ''\n",
    "df_earthquake.at[958,'other_deaths'] = '33'\n",
    "df_earthquake.at[1327,'other_deaths'] = '1115'\n",
    "df_earthquake.at[1332,'other_deaths'] = '2698'"
   ]
  },
  {
   "cell_type": "code",
   "execution_count": 38,
   "metadata": {},
   "outputs": [],
   "source": [
    "#df_earthquake = df_earthquake.drop([438])"
   ]
  },
  {
   "cell_type": "code",
   "execution_count": 39,
   "metadata": {},
   "outputs": [],
   "source": [
    "#df_earthquake.iloc[(1330)]"
   ]
  },
  {
   "cell_type": "code",
   "execution_count": 40,
   "metadata": {},
   "outputs": [],
   "source": [
    "df_earthquake1 = df_earthquake.drop([413, 437, 439,1319,1320,1323,1324,1325,1326,1327,1330,1331,1332,1333,1334,1336])"
   ]
  },
  {
   "cell_type": "code",
   "execution_count": 41,
   "metadata": {
    "scrolled": true
   },
   "outputs": [
    {
     "data": {
      "text/plain": [
       "Index(['origin', 'country', 'lat', 'lng', 'depth', 'magnitude',\n",
       "       'secondary_effects', 'pde_shaking_deaths', 'pde_total_deaths',\n",
       "       'utsu_total_deaths', 'emdat_total_deaths', 'other_deaths'],\n",
       "      dtype='object')"
      ]
     },
     "execution_count": 41,
     "metadata": {},
     "output_type": "execute_result"
    }
   ],
   "source": [
    "df_earthquake1.columns"
   ]
  },
  {
   "cell_type": "code",
   "execution_count": 42,
   "metadata": {},
   "outputs": [
    {
     "data": {
      "text/plain": [
       "pandas.core.frame.DataFrame"
      ]
     },
     "execution_count": 42,
     "metadata": {},
     "output_type": "execute_result"
    }
   ],
   "source": [
    "type(df_earthquake1)"
   ]
  },
  {
   "cell_type": "code",
   "execution_count": 43,
   "metadata": {},
   "outputs": [],
   "source": [
    "df_earthquake1['lat'] = pd.to_numeric(df_earthquake1['lat'])\n",
    "df_earthquake1['lng'] = pd.to_numeric(df_earthquake1['lng'])\n"
   ]
  },
  {
   "cell_type": "code",
   "execution_count": 44,
   "metadata": {},
   "outputs": [],
   "source": [
    "# Removing alphabet and cleaning up magnitude column\n",
    "df_earthquake1.magnitude = df_earthquake1.magnitude.str[0:3]"
   ]
  },
  {
   "cell_type": "code",
   "execution_count": 45,
   "metadata": {},
   "outputs": [],
   "source": [
    "#df_earthquake.at[438, 'magnitude'] = \"5.0\""
   ]
  },
  {
   "cell_type": "code",
   "execution_count": 46,
   "metadata": {},
   "outputs": [],
   "source": [
    "df_earthquake.magnitude = pd.to_numeric(df_earthquake1.magnitude)"
   ]
  },
  {
   "cell_type": "code",
   "execution_count": 47,
   "metadata": {},
   "outputs": [],
   "source": [
    "#converting all deaths columns to numeric\n",
    "\n",
    "df_earthquake1.pde_shaking_deaths = pd.to_numeric(df_earthquake1.pde_shaking_deaths)\n",
    "df_earthquake1.pde_total_deaths = pd.to_numeric(df_earthquake1.pde_total_deaths)\n",
    "df_earthquake1.utsu_total_deaths = pd.to_numeric(df_earthquake1.utsu_total_deaths)\n",
    "df_earthquake1.emdat_total_deaths = pd.to_numeric(df_earthquake1.emdat_total_deaths)\n",
    "df_earthquake1.other_deaths = pd.to_numeric(df_earthquake1.other_deaths)\n"
   ]
  },
  {
   "cell_type": "code",
   "execution_count": 48,
   "metadata": {},
   "outputs": [],
   "source": [
    "#create a column called total deaths that has the max of the deaths columns and fill 0 in empy rows\n",
    "\n",
    "df_earthquake1['total_deaths'] = df_earthquake1.iloc[:,-5:].max(axis = 1)\n",
    "df_earthquake1['total_deaths'] = df_earthquake1.total_deaths.fillna(0)"
   ]
  },
  {
   "cell_type": "code",
   "execution_count": 49,
   "metadata": {},
   "outputs": [],
   "source": [
    "#Cleaning the 'country' column--removing the parenthesis and whatever inside of it\n",
    "df_earthquake1['country'] = df_earthquake1.country.str.replace(r\"\\(.*\\)\",\"\")\n",
    "df_earthquake1.country = df_earthquake1.country.str.replace(r\"\\(.*\",\"\")"
   ]
  },
  {
   "cell_type": "markdown",
   "metadata": {},
   "source": [
    "#Magnitude is an estimate of the relative \"size\" or strength of an earthquake, \n",
    "and thus its potential for causing ground-shaking. It is \"approximately related to the released seismic energy."
   ]
  },
  {
   "cell_type": "code",
   "execution_count": 50,
   "metadata": {},
   "outputs": [
    {
     "data": {
      "text/html": [
       "<div>\n",
       "<style scoped>\n",
       "    .dataframe tbody tr th:only-of-type {\n",
       "        vertical-align: middle;\n",
       "    }\n",
       "\n",
       "    .dataframe tbody tr th {\n",
       "        vertical-align: top;\n",
       "    }\n",
       "\n",
       "    .dataframe thead th {\n",
       "        text-align: right;\n",
       "    }\n",
       "</style>\n",
       "<table border=\"1\" class=\"dataframe\">\n",
       "  <thead>\n",
       "    <tr style=\"text-align: right;\">\n",
       "      <th></th>\n",
       "      <th>origin</th>\n",
       "      <th>country</th>\n",
       "      <th>lat</th>\n",
       "      <th>lng</th>\n",
       "      <th>depth</th>\n",
       "      <th>magnitude</th>\n",
       "      <th>secondary_effects</th>\n",
       "      <th>pde_shaking_deaths</th>\n",
       "      <th>pde_total_deaths</th>\n",
       "      <th>utsu_total_deaths</th>\n",
       "      <th>emdat_total_deaths</th>\n",
       "      <th>other_deaths</th>\n",
       "      <th>total_deaths</th>\n",
       "    </tr>\n",
       "  </thead>\n",
       "  <tbody>\n",
       "    <tr>\n",
       "      <th>0</th>\n",
       "      <td>1900-05-11 17:23:00</td>\n",
       "      <td>Japan</td>\n",
       "      <td>38.7</td>\n",
       "      <td>141.1</td>\n",
       "      <td>5</td>\n",
       "      <td>7.0</td>\n",
       "      <td>NaN</td>\n",
       "      <td>NaN</td>\n",
       "      <td>NaN</td>\n",
       "      <td>NaN</td>\n",
       "      <td>NaN</td>\n",
       "      <td>NaN</td>\n",
       "      <td>0.0</td>\n",
       "    </tr>\n",
       "    <tr>\n",
       "      <th>1</th>\n",
       "      <td>1900-07-12 06:25:00</td>\n",
       "      <td>Turkey</td>\n",
       "      <td>40.3</td>\n",
       "      <td>43.1</td>\n",
       "      <td>NaN</td>\n",
       "      <td>5.9</td>\n",
       "      <td>NaN</td>\n",
       "      <td>NaN</td>\n",
       "      <td>NaN</td>\n",
       "      <td>140.0</td>\n",
       "      <td>NaN</td>\n",
       "      <td>NaN</td>\n",
       "      <td>140.0</td>\n",
       "    </tr>\n",
       "    <tr>\n",
       "      <th>2</th>\n",
       "      <td>1900-10-29 09:11:00</td>\n",
       "      <td>Venezuela</td>\n",
       "      <td>11.0</td>\n",
       "      <td>-66.0</td>\n",
       "      <td>0</td>\n",
       "      <td>7.7</td>\n",
       "      <td>NaN</td>\n",
       "      <td>NaN</td>\n",
       "      <td>NaN</td>\n",
       "      <td>NaN</td>\n",
       "      <td>NaN</td>\n",
       "      <td>NaN</td>\n",
       "      <td>0.0</td>\n",
       "    </tr>\n",
       "    <tr>\n",
       "      <th>3</th>\n",
       "      <td>1901-02-15 00:00:00</td>\n",
       "      <td>China</td>\n",
       "      <td>26.0</td>\n",
       "      <td>100.1</td>\n",
       "      <td>0</td>\n",
       "      <td>6.5</td>\n",
       "      <td>NaN</td>\n",
       "      <td>NaN</td>\n",
       "      <td>NaN</td>\n",
       "      <td>NaN</td>\n",
       "      <td>NaN</td>\n",
       "      <td>NaN</td>\n",
       "      <td>0.0</td>\n",
       "    </tr>\n",
       "    <tr>\n",
       "      <th>4</th>\n",
       "      <td>1901-03-31 07:11:00</td>\n",
       "      <td>Bulgaria</td>\n",
       "      <td>43.4</td>\n",
       "      <td>28.7</td>\n",
       "      <td>NaN</td>\n",
       "      <td>6.4</td>\n",
       "      <td>NaN</td>\n",
       "      <td>NaN</td>\n",
       "      <td>NaN</td>\n",
       "      <td>4.0</td>\n",
       "      <td>NaN</td>\n",
       "      <td>NaN</td>\n",
       "      <td>4.0</td>\n",
       "    </tr>\n",
       "  </tbody>\n",
       "</table>\n",
       "</div>"
      ],
      "text/plain": [
       "               origin    country   lat    lng depth magnitude  \\\n",
       "0 1900-05-11 17:23:00      Japan  38.7  141.1     5       7.0   \n",
       "1 1900-07-12 06:25:00     Turkey  40.3   43.1   NaN       5.9   \n",
       "2 1900-10-29 09:11:00  Venezuela  11.0  -66.0     0       7.7   \n",
       "3 1901-02-15 00:00:00      China  26.0  100.1     0       6.5   \n",
       "4 1901-03-31 07:11:00   Bulgaria  43.4   28.7   NaN       6.4   \n",
       "\n",
       "  secondary_effects  pde_shaking_deaths  pde_total_deaths  utsu_total_deaths  \\\n",
       "0               NaN                 NaN               NaN                NaN   \n",
       "1               NaN                 NaN               NaN              140.0   \n",
       "2               NaN                 NaN               NaN                NaN   \n",
       "3               NaN                 NaN               NaN                NaN   \n",
       "4               NaN                 NaN               NaN                4.0   \n",
       "\n",
       "   emdat_total_deaths  other_deaths  total_deaths  \n",
       "0                 NaN           NaN           0.0  \n",
       "1                 NaN           NaN         140.0  \n",
       "2                 NaN           NaN           0.0  \n",
       "3                 NaN           NaN           0.0  \n",
       "4                 NaN           NaN           4.0  "
      ]
     },
     "execution_count": 50,
     "metadata": {},
     "output_type": "execute_result"
    }
   ],
   "source": [
    "df_earthquake1.head()"
   ]
  },
  {
   "cell_type": "code",
   "execution_count": 51,
   "metadata": {},
   "outputs": [],
   "source": [
    "#df_earthquake['Year'] = df_earthquake[\"origin\"].str[:4]\n",
    "#df_earthquake.head()\n"
   ]
  },
  {
   "cell_type": "code",
   "execution_count": 52,
   "metadata": {},
   "outputs": [],
   "source": [
    "#df_earthquake = df_earthquake[['Year'] + df_earthquake.columns[:-2].tolist()]\n",
    "#df_earthquake = df_earthquake[['country'] + df_earthquake.columns[:-1].tolist()]"
   ]
  },
  {
   "cell_type": "code",
   "execution_count": 53,
   "metadata": {},
   "outputs": [],
   "source": [
    "#df_earthquake.columns"
   ]
  },
  {
   "cell_type": "markdown",
   "metadata": {},
   "source": [
    "# What magnitude has high frequency in the data "
   ]
  },
  {
   "cell_type": "code",
   "execution_count": null,
   "metadata": {},
   "outputs": [],
   "source": [
    "df_earthquake1.magnitude.hist(bins=10)\n",
    "plt.title(\"Frequency of Magnitude\", fontweight='bold', size=25)\n",
    "plt.xlabel('Magnitude', fontweight='bold', size=20)\n",
    "plt.ylabel('Frequency', fontweight='bold', size=20);"
   ]
  },
  {
   "cell_type": "markdown",
   "metadata": {},
   "source": [
    "# How magnitude of EQ affects death toll"
   ]
  },
  {
   "cell_type": "code",
   "execution_count": null,
   "metadata": {},
   "outputs": [],
   "source": [
    "df_earthquake.columns"
   ]
  },
  {
   "cell_type": "code",
   "execution_count": null,
   "metadata": {},
   "outputs": [],
   "source": [
    "eqdata = df_earthquake.drop(['depth', 'pde_shaking_deaths','pde_total_deaths',\n",
    "              'utsu_total_deaths','emdat_total_deaths','other_deaths'], axis = 1)"
   ]
  },
  {
   "cell_type": "code",
   "execution_count": null,
   "metadata": {},
   "outputs": [],
   "source": [
    "eqdata.head()"
   ]
  },
  {
   "cell_type": "code",
   "execution_count": null,
   "metadata": {},
   "outputs": [],
   "source": [
    "eq_below5 = eqdata[eqdata['magnitude'] < 5.0]"
   ]
  },
  {
   "cell_type": "code",
   "execution_count": null,
   "metadata": {},
   "outputs": [],
   "source": [
    "eq_5 = eqdata[(eqdata['magnitude'] >= 5.0) & (eqdata['magnitude'] <= 5.9)]"
   ]
  },
  {
   "cell_type": "code",
   "execution_count": null,
   "metadata": {},
   "outputs": [],
   "source": [
    "eq_6 = eqdata[(eqdata['magnitude'] >= 6.0) & (eqdata['magnitude'] <= 6.9)]"
   ]
  },
  {
   "cell_type": "code",
   "execution_count": null,
   "metadata": {},
   "outputs": [],
   "source": [
    "eq_7 = eqdata[(eqdata['magnitude'] >= 7.0) & (eqdata['magnitude'] <= 7.9)]"
   ]
  },
  {
   "cell_type": "code",
   "execution_count": null,
   "metadata": {},
   "outputs": [],
   "source": [
    "eq_8 = eqdata[(eqdata['magnitude'] >= 8.0) & (eqdata['magnitude'] <= 8.9)]"
   ]
  },
  {
   "cell_type": "code",
   "execution_count": null,
   "metadata": {},
   "outputs": [],
   "source": [
    "eq_9 = eqdata[(eqdata['magnitude'] >= 9.0) & (eqdata['magnitude'] <= 9.9)]"
   ]
  },
  {
   "cell_type": "code",
   "execution_count": null,
   "metadata": {},
   "outputs": [],
   "source": [
    "mag_death = eqdata[(eqdata['magnitude'] >= 6.0)]"
   ]
  },
  {
   "cell_type": "code",
   "execution_count": null,
   "metadata": {},
   "outputs": [],
   "source": [
    "mag_vs_death = pd.DataFrame(mag_death.groupby('magnitude')['total_deaths'].sum())"
   ]
  },
  {
   "cell_type": "code",
   "execution_count": null,
   "metadata": {},
   "outputs": [],
   "source": [
    "mag_vs_death = mag_vs_death.sort_values('magnitude').reset_index()"
   ]
  },
  {
   "cell_type": "code",
   "execution_count": null,
   "metadata": {},
   "outputs": [],
   "source": [
    "mag_vs_death.hist(bins= 6);"
   ]
  },
  {
   "cell_type": "code",
   "execution_count": null,
   "metadata": {},
   "outputs": [],
   "source": [
    "bar_mag_vs_death = mag_vs_death.plot.bar(x='magnitude', y='total_deaths', rot=0, \n",
    "                              title ='Effect of Magnitude on Number of Deaths (>1000) per Earthquake', legend = False, \n",
    "                          figsize = (20,10))\n",
    "plt.xlabel('Magnitude', fontweight='bold')\n",
    "plt.ylabel(\"Mean Number of Deaths\", fontweight='bold');"
   ]
  },
  {
   "cell_type": "code",
   "execution_count": null,
   "metadata": {},
   "outputs": [],
   "source": [
    "#import plotly.plotly as py"
   ]
  },
  {
   "cell_type": "code",
   "execution_count": null,
   "metadata": {},
   "outputs": [],
   "source": [
    "#eq_9.total_deaths.sum()"
   ]
  },
  {
   "cell_type": "code",
   "execution_count": null,
   "metadata": {},
   "outputs": [],
   "source": [
    "fig = plt.figure(figsize=(15, 10))\n",
    "plt.style.use('ggplot')\n",
    "fontsize = 10\n",
    "\n",
    "ax1 = fig.add_subplot(231)\n",
    "plt.xlabel(\"Magnitude\", fontweight='bold')\n",
    "plt.ylabel(\"Deaths (x1000)\", fontweight='bold')\n",
    "plt.title('Total Deaths = 310')\n",
    "for tick in ax1.xaxis.get_major_ticks():\n",
    "    tick.label1.set_fontsize(fontsize)\n",
    "    tick.label1.set_fontweight('bold')\n",
    "for tick in ax1.yaxis.get_major_ticks():\n",
    "    tick.label1.set_fontsize(fontsize)\n",
    "    tick.label1.set_fontweight('bold')\n",
    "    \n",
    "ax2 = fig.add_subplot(232)\n",
    "plt.xlabel(\"Magnitude\", fontweight='bold')\n",
    "plt.ylabel(\"Deaths (x1000)\", fontweight='bold')\n",
    "plt.title('Total Deaths = 39,456')\n",
    "for tick in ax2.xaxis.get_major_ticks():\n",
    "    tick.label1.set_fontsize(fontsize)\n",
    "    tick.label1.set_fontweight('bold')\n",
    "for tick in ax2.yaxis.get_major_ticks():\n",
    "    tick.label1.set_fontsize(fontsize)\n",
    "    tick.label1.set_fontweight('bold')\n",
    "    \n",
    "ax3 = fig.add_subplot(233)\n",
    "plt.xlabel(\"Magnitude\", fontweight='bold')\n",
    "plt.ylabel(\"Deaths (x1000)\", fontweight='bold')\n",
    "plt.title('Total Deaths = 236,954')\n",
    "for tick in ax3.xaxis.get_major_ticks():\n",
    "    tick.label1.set_fontsize(fontsize)\n",
    "    tick.label1.set_fontweight('bold')\n",
    "for tick in ax3.yaxis.get_major_ticks():\n",
    "    tick.label1.set_fontsize(fontsize)\n",
    "    tick.label1.set_fontweight('bold')\n",
    "    \n",
    "ax4 = fig.add_subplot(234)\n",
    "plt.xlabel(\"Magnitude\", fontweight='bold')\n",
    "plt.ylabel(\"Deaths (x1000)\", fontweight='bold')\n",
    "plt.title('Total Deaths = 1,285,692')\n",
    "for tick in ax4.xaxis.get_major_ticks():\n",
    "    tick.label1.set_fontsize(fontsize)\n",
    "    tick.label1.set_fontweight('bold')\n",
    "for tick in ax4.yaxis.get_major_ticks():\n",
    "    tick.label1.set_fontsize(fontsize)\n",
    "    tick.label1.set_fontweight('bold')\n",
    "    \n",
    "ax5 = fig.add_subplot(235)\n",
    "plt.xlabel(\"Magnitude\", fontweight='bold')\n",
    "plt.ylabel(\"Deaths (x1000)\", fontweight='bold')\n",
    "plt.title('Total Deaths = 340,863')\n",
    "for tick in ax5.xaxis.get_major_ticks():\n",
    "    tick.label1.set_fontsize(fontsize)\n",
    "    tick.label1.set_fontweight('bold')\n",
    "for tick in ax5.yaxis.get_major_ticks():\n",
    "    tick.label1.set_fontsize(fontsize)\n",
    "    tick.label1.set_fontweight('bold')\n",
    "    \n",
    "ax6 = fig.add_subplot(236)\n",
    "plt.xlabel(\"Magnitude\", fontweight='bold')\n",
    "plt.ylabel(\"Deaths (x1000)\", fontweight='bold')\n",
    "plt.title('Total Deaths = 304,725')\n",
    "for tick in ax6.xaxis.get_major_ticks():\n",
    "    tick.label1.set_fontsize(fontsize)\n",
    "    tick.label1.set_fontweight('bold')\n",
    "for tick in ax6.yaxis.get_major_ticks():\n",
    "    tick.label1.set_fontsize(fontsize)\n",
    "    tick.label1.set_fontweight('bold')\n",
    "\n",
    "ax1.scatter(eq_below5['magnitude'], eq_below5['total_deaths']/1000, alpha=0.5)\n",
    "ax2.scatter(eq_5['magnitude'], eq_5['total_deaths']/1000, alpha=0.5)\n",
    "ax3.scatter(eq_6['magnitude'], eq_6['total_deaths']/1000, alpha=0.5)\n",
    "ax4.scatter(eq_7['magnitude'], eq_7['total_deaths']/1000, alpha=0.5)\n",
    "ax5.scatter(eq_8['magnitude'], eq_8['total_deaths']/1000, alpha=0.5)\n",
    "ax6.scatter(eq_9['magnitude'], eq_9['total_deaths']/1000, alpha=0.5);\n"
   ]
  },
  {
   "cell_type": "markdown",
   "metadata": {},
   "source": [
    "# Most deadly earthquake on TreeMAP:"
   ]
  },
  {
   "cell_type": "code",
   "execution_count": null,
   "metadata": {},
   "outputs": [],
   "source": [
    "# Selecting Earthquakes caused deaths more than 10000\n",
    "eqdata_deaths = eqdata[(eqdata['total_deaths'] >= 10000)]"
   ]
  },
  {
   "cell_type": "code",
   "execution_count": null,
   "metadata": {},
   "outputs": [],
   "source": [
    "# Droping columns no needed for TreeMap\n",
    "eqdata_sqarify = eqdata_deaths.drop(['origin', 'lat', 'lng'], axis=1)\n",
    "eqdata_sqarify.head()"
   ]
  },
  {
   "cell_type": "code",
   "execution_count": null,
   "metadata": {},
   "outputs": [],
   "source": [
    "#replace all NaN in secondary effects to None\n",
    "eqdata_sqarify['secondary_effects'] = eqdata_sqarify['secondary_effects'].replace(np.NaN,'None')"
   ]
  },
  {
   "cell_type": "code",
   "execution_count": null,
   "metadata": {},
   "outputs": [],
   "source": [
    "import matplotlib"
   ]
  },
  {
   "cell_type": "code",
   "execution_count": null,
   "metadata": {},
   "outputs": [],
   "source": [
    "# Sorting data based on # of Total Deaths and country\n",
    "eqdata_sqarify = eqdata_sqarify.sort_values(by=['total_deaths', 'country'], ascending=False)\n",
    "#eqdata_sqarify.head()"
   ]
  },
  {
   "cell_type": "code",
   "execution_count": null,
   "metadata": {},
   "outputs": [],
   "source": [
    "# Create Treemap Labels\n",
    "eqdata_sqarify[\"Label\"] = eqdata_sqarify[\"country\"] + \" (\" + eqdata_sqarify[\"magnitude\"].astype(\"str\") + \" )\" + eqdata_sqarify[\"secondary_effects\"] "
   ]
  },
  {
   "cell_type": "code",
   "execution_count": null,
   "metadata": {},
   "outputs": [],
   "source": [
    "#Creating TreeMap\n",
    "plt.rcParams['figure.figsize'] = (20,20)\n",
    "plt.rc('font', size=30)\n",
    "# Use ggplot style\n",
    "style.use('ggplot')"
   ]
  },
  {
   "cell_type": "code",
   "execution_count": null,
   "metadata": {},
   "outputs": [],
   "source": [
    "#Colormap\n",
    "cmap = matplotlib.cm.YlOrRd\n",
    "# Min and Max Values\n",
    "mini = min(eqdata_sqarify[\"total_deaths\"])\n",
    "maxi = max(eqdata_sqarify[\"total_deaths\"])\n",
    "# Finding Colors for each tile\n",
    "norm = matplotlib.colors.Normalize(vmin=mini, vmax=maxi)\n",
    "colors = [cmap(norm(value)) for value in eqdata_sqarify[\"total_deaths\"]]\n",
    "squarify.plot(sizes=eqdata_sqarify['total_deaths'], label=eqdata_sqarify['Label'], alpha=0.8, color=colors)\n",
    "plt.axis('off') \n",
    "img = plt.imshow([eqdata_sqarify.total_deaths], cmap=cmap)\n",
    "img.set_visible(False)\n",
    "plt.colorbar(img, orientation=\"vertical\", shrink=.5)\n",
    "plt.title(\"Most deadly earthquakes\", fontsize=40)\n",
    "\n",
    "#plt.text(1, 0, \"Source:....\", fontsize=20, ha=\"center\")\n",
    "\n",
    "plt.show()\n"
   ]
  },
  {
   "cell_type": "markdown",
   "metadata": {},
   "source": [
    "# Effect of secondary effects on death toll"
   ]
  },
  {
   "cell_type": "code",
   "execution_count": null,
   "metadata": {},
   "outputs": [],
   "source": [
    "eqdata_sqarify['secondary_effects'] = eqdata_sqarify['secondary_effects'].replace(np.NaN,'None')"
   ]
  },
  {
   "cell_type": "code",
   "execution_count": null,
   "metadata": {},
   "outputs": [],
   "source": [
    "# Sorting data based on # of Total Deaths and secondary effects\n",
    "eqdata_sqarify = eqdata_sqarify.sort_values(by=['total_deaths', 'secondary_effects'], ascending=False)"
   ]
  },
  {
   "cell_type": "code",
   "execution_count": null,
   "metadata": {},
   "outputs": [],
   "source": [
    "eqdata_sqarify[\"Label2\"] = eqdata_sqarify[\"secondary_effects\"] + \" (\" + eqdata_sqarify[\"magnitude\"].astype(\"str\") + \" )\""
   ]
  },
  {
   "cell_type": "code",
   "execution_count": null,
   "metadata": {
    "scrolled": false
   },
   "outputs": [],
   "source": [
    "#Creating TreeMap\n",
    "plt.rcParams['figure.figsize'] = (20,15)\n",
    "plt.rc('font', size=30)\n",
    "# Use ggplot style\n",
    "style.use('ggplot')\n",
    "#Colormap\n",
    "cmap = matplotlib.cm.YlOrRd\n",
    "# Min and Max Values\n",
    "mini = min(eqdata_sqarify[\"total_deaths\"])\n",
    "maxi = max(eqdata_sqarify[\"total_deaths\"])\n",
    "# Finding Colors for each tile\n",
    "norm = matplotlib.colors.Normalize(vmin=mini, vmax=maxi)\n",
    "colors = [cmap(norm(value)) for value in eqdata_sqarify[\"total_deaths\"]]\n",
    "squarify.plot(sizes=eqdata_sqarify['total_deaths'], label=eqdata_sqarify['Label2'], alpha=0.8, color=colors, padding=1)\n",
    "plt.axis('off') \n",
    "img = plt.imshow([eqdata_sqarify.total_deaths], cmap=cmap)\n",
    "img.set_visible(False)\n",
    "plt.colorbar(img, orientation=\"vertical\", shrink=.5)\n",
    "plt.title(\"Secondary effects, magnitude and deaths\", fontsize=30)\n",
    "#plt.legend(\"Secondary effects, magnitude and deaths\", fontsize=10)\n",
    "plt.show()\n"
   ]
  },
  {
   "cell_type": "markdown",
   "metadata": {},
   "source": [
    "# Earthquake on the world map"
   ]
  },
  {
   "cell_type": "code",
   "execution_count": null,
   "metadata": {},
   "outputs": [],
   "source": [
    "from folium import plugins\n",
    "from folium.plugins import HeatMap\n",
    "import datetime\n",
    "from folium.plugins import MarkerCluster\n",
    "\n",
    "warnings.filterwarnings(\"ignore\")"
   ]
  },
  {
   "cell_type": "code",
   "execution_count": null,
   "metadata": {},
   "outputs": [],
   "source": [
    "df_earthquake['geometry'] = df_earthquake.apply(lambda x: Point((float(x.lng), float(x.lat))), axis=1)\n",
    "#df_earthquake.head()"
   ]
  },
  {
   "cell_type": "code",
   "execution_count": null,
   "metadata": {},
   "outputs": [],
   "source": [
    "lat=0\n",
    "long=0\n",
    "\n",
    "map=folium.Map(location=[lat,long],zoom_start=2)"
   ]
  },
  {
   "cell_type": "code",
   "execution_count": null,
   "metadata": {},
   "outputs": [],
   "source": [
    "for row in eqdata_deaths.iterrows():\n",
    "    row_values = row[1]\n",
    "    location = [row_values['lat'], row_values['lng']]\n",
    "    marker = folium.CircleMarker(location=location, radius=5)\n",
    "    marker.add_to(map)\n",
    "    \n",
    "    def color(magnitude):\n",
    "    \n",
    "        if magnitude<5:\n",
    "            col='green'\n",
    "        elif [(magnitude>5)&(magnitude<6)]:\n",
    "            col='yellow'\n",
    "        else:\n",
    "            col='red'\n",
    "        return col\n",
    "\n",
    "map.add_child(MarkerCluster(locations=list(zip(eqdata_deaths['lat'], \n",
    "                                 eqdata_deaths['lng'])),\n",
    "                                 popups=eqdata_deaths['magnitude'].astype(str),\n",
    "                                 icons=[color(m) for m in eqdata_deaths['magnitude']]))\n",
    "\n",
    "\n",
    "map"
   ]
  },
  {
   "cell_type": "code",
   "execution_count": null,
   "metadata": {},
   "outputs": [],
   "source": [
    "map1=folium.Map(location=[lat,long],zoom_start=2)\n",
    "for row in eqdata_deaths.iterrows():\n",
    "    row_values = row[1]\n",
    "    location = [row_values['lat'], row_values['lng']]\n",
    "    marker = folium.CircleMarker(location=location, radius=10)\n",
    "    marker.add_to(map1)\n",
    "    \n",
    "    def color(deaths):\n",
    "    \n",
    "        if deaths<50000:\n",
    "            col='green'\n",
    "        elif [(deaths>50000)&(deaths<200000)]:\n",
    "            col='yellow'\n",
    "        else:\n",
    "            col='red'\n",
    "        return col\n",
    "\n",
    "map1.add_child(MarkerCluster(locations=list(zip(eqdata_deaths['lat'], \n",
    "                                 eqdata_deaths['lng'])),\n",
    "                                 popups=eqdata_deaths['total_deaths'].astype(str),\n",
    "                                 icons=[color(m) for m in eqdata_deaths['total_deaths']]))\n",
    "\n",
    "\n",
    "map1"
   ]
  },
  {
   "cell_type": "code",
   "execution_count": null,
   "metadata": {},
   "outputs": [],
   "source": [
    "import altair as alt\n",
    "from altair.expr import datum\n",
    "from vega_datasets import data"
   ]
  },
  {
   "cell_type": "code",
   "execution_count": null,
   "metadata": {},
   "outputs": [],
   "source": []
  },
  {
   "cell_type": "code",
   "execution_count": null,
   "metadata": {},
   "outputs": [],
   "source": [
    "alt.renderers.enable('notebook')"
   ]
  },
  {
   "cell_type": "code",
   "execution_count": null,
   "metadata": {},
   "outputs": [],
   "source": [
    "source = data.disasters.url\n",
    "\n",
    "alt.Chart(source).mark_circle(\n",
    "    opacity=0.8,\n",
    "    stroke='black',\n",
    "    strokeWidth=1\n",
    ").encode(\n",
    "    alt.X('Year:O', axis=alt.Axis(labelAngle=0)),\n",
    "    alt.Y('Entity:N'),\n",
    "    alt.Size('Deaths:Q',\n",
    "        scale=alt.Scale(range=[0, 5000]),\n",
    "        legend=alt.Legend(title='Annual Global Deaths')\n",
    "    ),\n",
    "    alt.Color('Entity:N', legend=None)\n",
    ").properties(\n",
    "    width=480,\n",
    "    height=350\n",
    ").transform_filter(\n",
    "    datum.Entity != 'All natural disasters'\n",
    ")"
   ]
  },
  {
   "cell_type": "code",
   "execution_count": null,
   "metadata": {},
   "outputs": [],
   "source": []
  },
  {
   "cell_type": "code",
   "execution_count": null,
   "metadata": {},
   "outputs": [],
   "source": []
  },
  {
   "cell_type": "code",
   "execution_count": null,
   "metadata": {},
   "outputs": [],
   "source": []
  },
  {
   "cell_type": "code",
   "execution_count": null,
   "metadata": {},
   "outputs": [],
   "source": []
  },
  {
   "cell_type": "code",
   "execution_count": null,
   "metadata": {},
   "outputs": [],
   "source": [
    "#Making plot less busy - clustering by regions. Choosing other markers.#Making p \n",
    "map1 = folium.Map(location=[30, 30], zoom_start=1)\n",
    "#We make a dictionary giving each region its own cluster\n",
    "cluster_dic = {\"region_{}\".format(region): folium.MarkerCluster().add_to(map_1) for region in pd.unique(eq_8[\"REGION\"])}\n",
    "for country in pd.unique(earthquakes[\"NAME\"]):\n",
    "    lon_lat_coun = earthquakes.loc[earthquakes[\"NAME\"] == country,[\"LATITUDE\", \"LONGITUDE\", \"Date\", \"EQ_PRIMARY\", \"REGION\"]].values\n",
    "    for x, y, date, magnitude, region in lon_lat_coun:\n",
    "        folium.Marker(\n",
    "            location=[x,y],\n",
    "            popup='{} - Earthquake of {} Mg.'.format(date, magnitude),\n",
    "            icon=folium.Icon(color='red', icon='asterisk'),\n",
    "            ).add_to(cluster_dic[\"region_{}\".format(region)])"
   ]
  },
  {
   "cell_type": "code",
   "execution_count": null,
   "metadata": {},
   "outputs": [],
   "source": [
    "# Make a data frame with dots to show on the map\n",
    "data = pd.DataFrame({\n",
    "   'lat':[-58, 2, 145, 30.32, -4.03, -73.57, 36.82, -38.5],\n",
    "   'lon':[-34, 49, -38, 59.93, 5.33, 45.52, -1.29, -12.97],\n",
    "   'name':['Buenos Aires', 'Paris', 'melbourne', 'St Petersbourg', 'Abidjan', 'Montreal', 'Nairobi', 'Salvador'],\n",
    "   'value':[10,12,40,70,23,43,100,43]\n",
    "})\n",
    "data\n",
    "\n"
   ]
  },
  {
   "cell_type": "code",
   "execution_count": null,
   "metadata": {},
   "outputs": [],
   "source": [
    "# Make an empty map\n",
    "m = folium.Map(location=[20,0], tiles=\"Mapbox Bright\", zoom_start=2)\n",
    " \n",
    "# I can add marker one by one on the map\n",
    "for i in range(0,len(data)):\n",
    "   folium.Circle(\n",
    "      location=[data.iloc[i]['lon'], data.iloc[i]['lat']],\n",
    "      popup=data.iloc[i]['name'],\n",
    "      radius=data.iloc[i]['value']*10000,\n",
    "      color='crimson',\n",
    "      fill=True,\n",
    "      fill_color='crimson'\n",
    "   ).add_to(m)\n"
   ]
  }
 ],
 "metadata": {
  "kernelspec": {
   "display_name": "Python 3",
   "language": "python",
   "name": "python3"
  },
  "language_info": {
   "codemirror_mode": {
    "name": "ipython",
    "version": 3
   },
   "file_extension": ".py",
   "mimetype": "text/x-python",
   "name": "python",
   "nbconvert_exporter": "python",
   "pygments_lexer": "ipython3",
   "version": "3.6.5"
  }
 },
 "nbformat": 4,
 "nbformat_minor": 2
}
